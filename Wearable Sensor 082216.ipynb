{
 "cells": [
  {
   "cell_type": "code",
   "execution_count": 69,
   "metadata": {
    "collapsed": false
   },
   "outputs": [],
   "source": [
    "from numpy import loadtxt\n",
    "import numpy as np\n",
    "import pandas as pd\n",
    "from sklearn import svm, grid_search\n",
    "from sklearn.metrics import accuracy_score, f1_score\n",
    "from sklearn.feature_selection import SelectPercentile, f_classif\n",
    "import matplotlib.pyplot as plt\n",
    "from matplotlib.pylab import rcParams\n",
    "rcParams['figure.figsize'] = 12, 20\n",
    "#import plotly.plotly as py\n",
    "#from plotly.graph_objs import *"
   ]
  },
  {
   "cell_type": "markdown",
   "metadata": {},
   "source": [
    "Introduction\n",
    "Wearable sensors have become increasingly popular over the last few years with the success of smartphones, fitness trackers, and smart watches. All of these devices create a large amount of data that is ideal for machine learning. Two early examples are the FitBit and Jawbone’s up band, both of which analyze sensor input to determine how many steps the user has taken, a metric which is helpful for measuring physical activity. There is no reason to stop there: With all of this data available it is also possible to extract more information. For example, fitness trackers coming out now can also analyze your sleep.\n",
    "\n",
    "In that spirit, I’m going to show here that it is pretty straightforward to make an algorithm that can differentiate between 6 different states.\n",
    "\n",
    "    Walking\n",
    "    Walking Upstairs\n",
    "    Walking Downstairs\n",
    "    Sitting\n",
    "    Standing\n",
    "    Laying\n"
   ]
  },
  {
   "cell_type": "markdown",
   "metadata": {},
   "source": [
    "Load packages and source data\n",
    "For this example, I used one of the datasets available from the UCI Machine Learning Repository. For this data set 30 subjects were recorded performing activities of daily living (ADL) while carrying a waist-mounted smartphone (Samsung Galaxy II) with embedded inertial sensors. A testing dataset and training dataset are provided. The dataset has 561 features which were created from the sensor data: XYZ acceleration, etc."
   ]
  },
  {
   "cell_type": "code",
   "execution_count": 2,
   "metadata": {
    "collapsed": true
   },
   "outputs": [],
   "source": [
    "data_test = loadtxt(\"./UCI_HAR_Dataset/test/X_test.txt\")\n",
    "label_test=loadtxt(\"./UCI_HAR_Dataset/test/y_test.txt\")\n",
    "data_train = loadtxt(\"./UCI_HAR_Dataset/train/X_train.txt\")\n",
    "label_train = loadtxt(\"./UCI_HAR_Dataset/train/y_train.txt\")"
   ]
  },
  {
   "cell_type": "code",
   "execution_count": 30,
   "metadata": {
    "collapsed": false
   },
   "outputs": [],
   "source": [
    "features = np.genfromtxt(\"./UCI_HAR_Dataset/features.txt\",dtype=None,usecols=[1])"
   ]
  },
  {
   "cell_type": "code",
   "execution_count": 34,
   "metadata": {
    "collapsed": false
   },
   "outputs": [],
   "source": [
    "test1 = pd.DataFrame(data_train, columns=features)"
   ]
  },
  {
   "cell_type": "code",
   "execution_count": 41,
   "metadata": {
    "collapsed": false
   },
   "outputs": [
    {
     "data": {
      "text/plain": [
       "561"
      ]
     },
     "execution_count": 41,
     "metadata": {},
     "output_type": "execute_result"
    }
   ],
   "source": [
    "data_test.shape[-1]"
   ]
  },
  {
   "cell_type": "markdown",
   "metadata": {},
   "source": [
    "Feature selection\n",
    "Given that this data set has training and testing data with labels, it makes sense to do supervised machine learning. We have over 500 potential features to use, which is a lot. Let’s see if we can get by with fewer features. To do that, we will use SK-learn’s SelectKBest to keep the top 20 percent of the features, and then transform the data."
   ]
  },
  {
   "cell_type": "code",
   "execution_count": 53,
   "metadata": {
    "collapsed": true
   },
   "outputs": [],
   "source": [
    "selector = SelectPercentile(f_classif, 2)\n",
    "selector.fit(data_train, label_train)\n",
    "data_train_transformed = selector.transform(data_train)\n",
    "data_test_transformed = selector.transform(data_test)"
   ]
  },
  {
   "cell_type": "code",
   "execution_count": 54,
   "metadata": {
    "collapsed": false
   },
   "outputs": [
    {
     "data": {
      "text/plain": [
       "(7352, 12)"
      ]
     },
     "execution_count": 54,
     "metadata": {},
     "output_type": "execute_result"
    }
   ],
   "source": [
    "data_train_transformed.shape"
   ]
  },
  {
   "cell_type": "code",
   "execution_count": 60,
   "metadata": {
    "collapsed": false
   },
   "outputs": [
    {
     "name": "stdout",
     "output_type": "stream",
     "text": [
      "***Features sorted by score: ['fBodyAccJerk-entropy()-X', 'tGravityAcc-mean()-X', 'tGravityAcc-min()-X', 'fBodyAccJerk-entropy()-Y', 'tGravityAcc-max()-X', 'tGravityAcc-energy()-X', 'fBodyBodyAccJerkMag-entropy()', 'tBodyAccJerkMag-entropy()', 'fBodyAcc-entropy()-X', 'tBodyAccJerk-entropy()-X', 'tBodyAcc-max()-X', 'fBodyAccJerk-entropy()-Z']\n"
     ]
    }
   ],
   "source": [
    "#print 'Scores of these features:', selector.scores_\n",
    "print '***Features sorted by score:', [features[i] for i in np.argsort(selector.scores_)[::-1]][:12]"
   ]
  },
  {
   "cell_type": "code",
   "execution_count": 61,
   "metadata": {
    "collapsed": true
   },
   "outputs": [],
   "source": [
    "features_transformed = [features[i] for i in np.argsort(selector.scores_)[::-1]][:12]"
   ]
  },
  {
   "cell_type": "code",
   "execution_count": 63,
   "metadata": {
    "collapsed": false
   },
   "outputs": [],
   "source": [
    "data_train_transformed_pandas = pd.DataFrame(data_train_transformed, columns=features_transformed)"
   ]
  },
  {
   "cell_type": "code",
   "execution_count": 72,
   "metadata": {
    "collapsed": false
   },
   "outputs": [
    {
     "name": "stdout",
     "output_type": "stream",
     "text": [
      "['fBodyAccJerk-entropy()-X', 'tGravityAcc-mean()-X', 'tGravityAcc-min()-X', 'fBodyAccJerk-entropy()-Y', 'tGravityAcc-max()-X', 'tGravityAcc-energy()-X', 'fBodyBodyAccJerkMag-entropy()', 'tBodyAccJerkMag-entropy()', 'fBodyAcc-entropy()-X', 'tBodyAccJerk-entropy()-X', 'tBodyAcc-max()-X', 'fBodyAccJerk-entropy()-Z']\n",
      "       fBodyAccJerk-entropy()-X  tGravityAcc-mean()-X  tGravityAcc-min()-X  \\\n",
      "count               7352.000000           7352.000000          7352.000000   \n",
      "mean                  -0.468604              0.664122             0.604165   \n",
      "std                    0.544547              0.516763             0.510073   \n",
      "min                   -1.000000             -1.000000            -1.000000   \n",
      "25%                   -0.936219              0.804863             0.743386   \n",
      "50%                   -0.881637              0.919513             0.857335   \n",
      "75%                   -0.017129              0.953065             0.886765   \n",
      "max                    1.000000              0.991549             1.000000   \n",
      "\n",
      "       fBodyAccJerk-entropy()-Y  tGravityAcc-max()-X  tGravityAcc-energy()-X  \\\n",
      "count               7352.000000          7352.000000             7352.000000   \n",
      "mean                   0.678505             0.436711               -0.099441   \n",
      "std                    0.508656             0.697904                0.653259   \n",
      "min                   -1.000000            -1.000000               -1.000000   \n",
      "25%                    0.804270             0.503783               -0.737220   \n",
      "50%                    0.926693             0.785489               -0.386004   \n",
      "75%                    0.965095             0.872283                0.589589   \n",
      "max                    1.000000             0.975855                1.000000   \n",
      "\n",
      "       fBodyBodyAccJerkMag-entropy()  tBodyAccJerkMag-entropy()  \\\n",
      "count                    7352.000000                7352.000000   \n",
      "mean                       -0.074129                  -0.210769   \n",
      "std                         0.727265                   0.725064   \n",
      "min                        -1.000000                  -1.000000   \n",
      "25%                        -0.808623                  -0.946357   \n",
      "50%                        -0.355730                  -0.528058   \n",
      "75%                         0.704445                   0.549975   \n",
      "max                         1.000000                   1.000000   \n",
      "\n",
      "       fBodyAcc-entropy()-X  tBodyAccJerk-entropy()-X  tBodyAcc-max()-X  \\\n",
      "count           7352.000000               7352.000000       7352.000000   \n",
      "mean              -0.278704                 -0.274265         -0.370684   \n",
      "std                0.751733                  0.736548          0.644339   \n",
      "min               -1.000000                 -1.000000         -1.000000   \n",
      "25%               -1.000000                 -1.000000         -1.000000   \n",
      "50%               -0.736440                 -0.655718         -0.708445   \n",
      "75%                0.520681                  0.511060          0.293075   \n",
      "max                1.000000                  0.996825          1.000000   \n",
      "\n",
      "       fBodyAccJerk-entropy()-Z  \n",
      "count               7352.000000  \n",
      "mean                  -0.347657  \n",
      "std                    0.670112  \n",
      "min                   -1.000000  \n",
      "25%                   -1.000000  \n",
      "50%                   -0.740806  \n",
      "75%                    0.350640  \n",
      "max                    1.000000  \n"
     ]
    },
    {
     "data": {
      "image/png": "[encoded data removed]",
      "text/plain": [
       "<matplotlib.figure.Figure at 0x7f63aaad3190>"
      ]
     },
     "metadata": {},
     "output_type": "display_data"
    }
   ],
   "source": [
    "print features_transformed\n",
    "print(data_train_transformed_pandas.describe())\n",
    "data_train_transformed_pandas.hist();"
   ]
  },
  {
   "cell_type": "markdown",
   "metadata": {},
   "source": [
    "Machine learning\n",
    "At this point you need to decide which algorithm you want to use. I tried a few of them and got the best results using a Support Vector Machine (SVM). SVMs attempt to determine the decision boundary between two classes that is as far away from the data of both classes as possible. In general they work pretty well.\n",
    "\n",
    "Let’s try some parameters and see how good our results are."
   ]
  },
  {
   "cell_type": "code",
   "execution_count": 55,
   "metadata": {
    "collapsed": false
   },
   "outputs": [
    {
     "name": "stdout",
     "output_type": "stream",
     "text": [
      "Accuracy is 0.7927 and the f1-score is 0.7772 \n"
     ]
    },
    {
     "name": "stderr",
     "output_type": "stream",
     "text": [
      "/home/kswamy/anaconda2/envs/dato-env/lib/python2.7/site-packages/sklearn/metrics/classification.py:756: DeprecationWarning: The default `weighted` averaging is deprecated, and from version 0.18, use of precision, recall or F-score with multiclass or multilabel data or pos_label=None will result in an exception. Please set an explicit value for `average`, one of (None, 'micro', 'macro', 'weighted', 'samples'). In cross validation use, for instance, scoring=\"f1_weighted\" instead of scoring=\"f1\".\n",
      "  sample_weight=sample_weight)\n"
     ]
    }
   ],
   "source": [
    "clf = svm.SVC(kernel=\"rbf\", C=1)\n",
    "clf.fit(data_train_transformed, label_train)\n",
    "pred=clf.predict(data_test_transformed)\n",
    " \n",
    "print \"Accuracy is %.4f and the f1-score is %.4f \" % (\n",
    "    accuracy_score(pred, label_test), f1_score(label_test, pred))"
   ]
  },
  {
   "cell_type": "markdown",
   "metadata": {},
   "source": [
    "Optimization\n",
    "That’s not too bad, but I think we can still optimize our results some more. We could change the parameters manually, or we can automate the task using a grid search. This is a handy module that allows you to do a parameter sweep. Below, I set up a sweep using two different kernels and various penalty term values (C) to see if we can raise our accuracy."
   ]
  },
  {
   "cell_type": "code",
   "execution_count": 56,
   "metadata": {
    "collapsed": false
   },
   "outputs": [
    {
     "name": "stdout",
     "output_type": "stream",
     "text": [
      "Accuracy is 0.8025 and the f1-score is 0.7877 \n"
     ]
    },
    {
     "name": "stderr",
     "output_type": "stream",
     "text": [
      "/home/kswamy/anaconda2/envs/dato-env/lib/python2.7/site-packages/sklearn/metrics/classification.py:756: DeprecationWarning: The default `weighted` averaging is deprecated, and from version 0.18, use of precision, recall or F-score with multiclass or multilabel data or pos_label=None will result in an exception. Please set an explicit value for `average`, one of (None, 'micro', 'macro', 'weighted', 'samples'). In cross validation use, for instance, scoring=\"f1_weighted\" instead of scoring=\"f1\".\n",
      "  sample_weight=sample_weight)\n"
     ]
    }
   ],
   "source": [
    "parameters = {'kernel':('linear', 'rbf'), 'C':[1, 10, 100, 1000, 10000, 100000]}\n",
    "svr = svm.SVC()\n",
    "clf = grid_search.GridSearchCV(svr, parameters)\n",
    "clf.fit(data_train_transformed, label_train)\n",
    "pred=clf.predict(data_test_transformed)\n",
    " \n",
    "print \"Accuracy is %.4f and the f1-score is %.4f \" % (\n",
    "    accuracy_score(pred, label_test), f1_score(label_test, pred))"
   ]
  },
  {
   "cell_type": "code",
   "execution_count": 57,
   "metadata": {
    "collapsed": false
   },
   "outputs": [
    {
     "data": {
      "text/plain": [
       "{'C': 1000, 'kernel': 'linear'}"
      ]
     },
     "execution_count": 57,
     "metadata": {},
     "output_type": "execute_result"
    }
   ],
   "source": [
    "clf.best_params_"
   ]
  },
  {
   "cell_type": "code",
   "execution_count": null,
   "metadata": {
    "collapsed": true
   },
   "outputs": [],
   "source": [
    "trace1 = Scatter(\n",
    "     x=X,\n",
    "     marker=Marker(\n",
    "        color='rgba(159, 197, 232, 0.2)',\n",
    "        size=8,\n",
    "        symbol='square'\n",
    "    ),\n",
    "    mode='markers',\n",
    "    name='Walking',\n",
    "    uid='04a053',\n",
    "    visible=True,\n",
    "    xaxis='x3',\n",
    "    yaxis='y3'\n",
    ")\n",
    "trace2 = Scatter(\n",
    "    x=X,\n",
    "    marker=Marker(\n",
    "        color='rgba(0, 0, 0, 0.2)',\n",
    "        size=8\n",
    "    ),\n",
    "    mode='markers',\n",
    "    name='Standing',\n",
    "    uid='1b4961',\n",
    "    visible=True,\n",
    "    xaxis='x2',\n",
    "    yaxis='y2'\n",
    ")\n",
    "trace3 = Scatter(\n",
    "     x=X,y=Y\n",
    "     marker=Marker(\n",
    "        color='rgba(255, 0, 0, 0.2)',\n",
    "        size=8,\n",
    "        symbol='cross'\n",
    "    ),\n",
    "    mode='markers',\n",
    "    name='Laying',\n",
    "    uid='e93851'\n",
    ")\n",
    "data = Data([trace1, trace2, trace3])\n",
    "layout = Layout(\n",
    "    autosize=True,\n",
    "    height=504,\n",
    "    legend=Legend(\n",
    "        x=0.9806451612903226,\n",
    "        y=0.9969135802469136,\n",
    "        bgcolor='rgb(255, 255, 255)',\n",
    "        bordercolor='rgb(0, 0, 0)',\n",
    "        borderwidth=1,\n",
    "        xanchor='auto',\n",
    "        yanchor='auto'\n",
    "    ),\n",
    "    showlegend=True,\n",
    "    title='$\\text{Machine Learning Results}$',\n",
    "    titlefont=dict(\n",
    "        size=20\n",
    "    ),\n",
    "    width=625,\n",
    "    xaxis=XAxis(\n",
    "        anchor='y',\n",
    "        autorange=False,\n",
    "        domain=[0, 1],\n",
    "        gridcolor='rgb(238, 238, 238)',\n",
    "        gridwidth=1,\n",
    "        range=[-0.3, 0.15522263583567814],\n",
    "        showline=True,\n",
    "        title='$\\text{Z Acceleration } (\\mu)$',\n",
    "        type='linear',\n",
    "        zeroline=False\n",
    "    ),\n",
    "    xaxis2=XAxis(\n",
    "        anchor='y2',\n",
    "        autorange=False,\n",
    "        domain=[0, 1],\n",
    "        gridcolor='rgb(238, 238, 238)',\n",
    "        gridwidth=1,\n",
    "        range=[-0.3, 0.1528153602440619],\n",
    "        showline=True,\n",
    "        title='$\\text{Z Acceleration } (\\mu)$',\n",
    "        type='linear',\n",
    "        zeroline=False\n",
    "    ),\n",
    "    xaxis3=XAxis(\n",
    "        anchor='y3',\n",
    "        autorange=False,\n",
    "        domain=[0, 1],\n",
    "        gridcolor='rgb(238, 238, 238)',\n",
    "        gridwidth=1,\n",
    "        range=[-0.3, 0.1528153602440619],\n",
    "        showline=True,\n",
    "        title='$\\text{Z Acceleration } (\\mu)$',\n",
    "        type='linear',\n",
    "        zeroline=False\n",
    "    ),\n",
    "    yaxis=YAxis(\n",
    "        anchor='x',\n",
    "        autorange=False,\n",
    "        domain=[0, 0.2333333333333333],\n",
    "        gridcolor='rgb(238, 238, 238)',\n",
    "        gridwidth=1,\n",
    "        range=[-1.1470567934353162, 0.22976500738905675],\n",
    "        showline=True,\n",
    "        title='$\\text{Z Acceleration } (\\sigma)$',\n",
    "        type='linear',\n",
    "        zeroline=False\n",
    "    ),\n",
    "    yaxis2=YAxis(\n",
    "        anchor='x2',\n",
    "        autorange=False,\n",
    "        domain=[0.3833333333333333, 0.6166666666666666],\n",
    "        gridcolor='rgb(238, 238, 238)',\n",
    "        gridwidth=1,\n",
    "        range=[-1.1470567934353162, 0.22976500738905675],\n",
    "        showline=True,\n",
    "        title='$\\text{Z Acceleration } (\\sigma)$',\n",
    "        type='linear',\n",
    "        zeroline=False\n",
    "    ),\n",
    "    yaxis3=YAxis(\n",
    "        anchor='x3',\n",
    "        autorange=False,\n",
    "        domain=[0.7666666666666666, 0.9999999999999999],\n",
    "        gridcolor='rgb(238, 238, 238)',\n",
    "        gridwidth=1,\n",
    "        range=[-1.1470567934353162, 0.22976500738905675],\n",
    "        showline=True,\n",
    "        title='$\\text{Z Acceleration } (\\sigma)$',\n",
    "        type='linear',\n",
    "        zeroline=False\n",
    "    )\n",
    ")\n",
    "fig = Figure(data=data, layout=layout)\n",
    "plot_url = py.plot(fig)"
   ]
  }
 ],
 "metadata": {
  "kernelspec": {
   "display_name": "Python 2",
   "language": "python",
   "name": "python2"
  },
  "language_info": {
   "codemirror_mode": {
    "name": "ipython",
    "version": 2
   },
   "file_extension": ".py",
   "mimetype": "text/x-python",
   "name": "python",
   "nbconvert_exporter": "python",
   "pygments_lexer": "ipython2",
   "version": "2.7.5"
  }
 },
 "nbformat": 4,
 "nbformat_minor": 0
}
